{
 "cells": [
  {
   "cell_type": "code",
   "execution_count": null,
   "metadata": {},
   "outputs": [],
   "source": [
    "# importing required packages\n",
    "from selenium import webdriver\n",
    "from selenium.webdriver.common.keys import Keys\n",
    "from selenium.webdriver.chrome.options import Options\n",
    "from selenium.webdriver.support.ui import WebDriverWait\n",
    "from selenium.webdriver.support import expected_conditions as EC\n",
    "from selenium.webdriver.common.by import By\n",
    "import time"
   ]
  },
  {
   "cell_type": "code",
   "execution_count": null,
   "metadata": {},
   "outputs": [],
   "source": [
    "# opening a webpage (either set path of the driver or give absolute path)\n",
    "\n",
    "driver = webdriver.Chrome(\"/Users/mmoiz/Development/jcu/chrome_driver/chromedriver\")"
   ]
  },
  {
   "cell_type": "code",
   "execution_count": null,
   "metadata": {},
   "outputs": [],
   "source": [
    "# url to open\n",
    "driver.get(\"https://myasx.asx.com.au/home/register.do\")"
   ]
  },
  {
   "cell_type": "code",
   "execution_count": null,
   "metadata": {},
   "outputs": [],
   "source": [
    "# web driver wait\n",
    "element = WebDriverWait(driver, 10).until(\n",
    "    EC.element_to_be_clickable((By.NAME, \"user.userName\")))"
   ]
  },
  {
   "cell_type": "code",
   "execution_count": null,
   "metadata": {},
   "outputs": [],
   "source": [
    "# email\n",
    "email = driver.find_element_by_name(\"user.userName\")\n",
    "email.clear()\n",
    "email.send_keys(\"JohneBravo@testmailer.com.au\")"
   ]
  },
  {
   "cell_type": "code",
   "execution_count": null,
   "metadata": {},
   "outputs": [],
   "source": [
    "# password\n",
    "password = driver.find_element_by_name(\"user.password\")\n",
    "password.clear()\n",
    "password.send_keys(\"PasswordForJohneBravo0987*\")"
   ]
  },
  {
   "cell_type": "code",
   "execution_count": null,
   "metadata": {},
   "outputs": [],
   "source": [
    "# confirm password\n",
    "cpassword = driver.find_element_by_name(\"confirmPassword\")\n",
    "cpassword.clear()\n",
    "cpassword.send_keys(\"PasswordForJohneBravo0987*\")"
   ]
  },
  {
   "cell_type": "code",
   "execution_count": null,
   "metadata": {},
   "outputs": [],
   "source": [
    "# salutation \n",
    "time.sleep(2)\n",
    "salutation = driver.find_element_by_id(\"user.salutation\")\n",
    "all_options = salutation.find_elements_by_tag_name(\"option\")\n",
    "\n",
    "for option in all_options:\n",
    "    if option.get_attribute(\"value\") == \"A\":\n",
    "        option.click()"
   ]
  },
  {
   "cell_type": "code",
   "execution_count": null,
   "metadata": {},
   "outputs": [],
   "source": [
    "# first name\n",
    "first_name = driver.find_element_by_name(\"user.firstName\")\n",
    "first_name.clear()\n",
    "first_name.send_keys(\"Johne\")"
   ]
  },
  {
   "cell_type": "code",
   "execution_count": null,
   "metadata": {},
   "outputs": [],
   "source": [
    "# last name\n",
    "last_name = driver.find_element_by_name(\"user.lastName\")\n",
    "last_name.clear()\n",
    "last_name.send_keys(\"Bravo\")"
   ]
  },
  {
   "cell_type": "code",
   "execution_count": null,
   "metadata": {},
   "outputs": [],
   "source": [
    "# age drop down\n",
    "time.sleep(2)\n",
    "age = driver.find_element_by_id(\"user.ageBracket\")\n",
    "all_options = age.find_elements_by_tag_name(\"option\")\n",
    "\n",
    "for option in all_options:\n",
    "    if option.get_attribute(\"value\") == \"1\":\n",
    "        option.click()"
   ]
  },
  {
   "cell_type": "code",
   "execution_count": null,
   "metadata": {},
   "outputs": [],
   "source": [
    "# gender drop down\n",
    "time.sleep(2)\n",
    "gender = driver.find_element_by_id(\"user.gender\")\n",
    "all_options = gender.find_elements_by_tag_name(\"option\")\n",
    "\n",
    "for option in all_options:\n",
    "    if option.get_attribute(\"value\") == \"M\":\n",
    "        option.click()"
   ]
  },
  {
   "cell_type": "code",
   "execution_count": null,
   "metadata": {},
   "outputs": [],
   "source": [
    "# radio Resident\n",
    "driver.find_element_by_xpath(\"//input[@id='user.resident3']\").click()"
   ]
  },
  {
   "cell_type": "code",
   "execution_count": null,
   "metadata": {},
   "outputs": [],
   "source": [
    "# checkboxes\n",
    "\n",
    "checkbox = driver.find_element_by_id(\"user.interestNames1\")\n",
    "checkbox.click()"
   ]
  },
  {
   "cell_type": "code",
   "execution_count": null,
   "metadata": {},
   "outputs": [],
   "source": [
    "# checkbox newsletter Names\n",
    "checkbox = driver.find_element_by_name(\"user.newsletterNames\")\n",
    "checkbox.click()"
   ]
  },
  {
   "cell_type": "code",
   "execution_count": null,
   "metadata": {},
   "outputs": [],
   "source": [
    "# checkbox Privacy Statement\n",
    "checkbox = driver.find_element_by_xpath(\"//input[@id='user.privacyStatement1']\")\n",
    "checkbox.click()"
   ]
  },
  {
   "cell_type": "code",
   "execution_count": null,
   "metadata": {},
   "outputs": [],
   "source": [
    "# submit button\n",
    "submit_ele = driver.find_element_by_xpath(\"//input[@id='save']\")\n",
    "time.sleep(2)\n",
    "submit_ele.click()"
   ]
  }
 ],
 "metadata": {
  "kernelspec": {
   "display_name": "Python 3",
   "language": "python",
   "name": "python3"
  },
  "language_info": {
   "codemirror_mode": {
    "name": "ipython",
    "version": 3
   },
   "file_extension": ".py",
   "mimetype": "text/x-python",
   "name": "python",
   "nbconvert_exporter": "python",
   "pygments_lexer": "ipython3",
   "version": "3.7.4"
  }
 },
 "nbformat": 4,
 "nbformat_minor": 2
}
